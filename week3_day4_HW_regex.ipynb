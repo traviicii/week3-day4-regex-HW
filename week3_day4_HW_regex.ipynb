{
 "cells": [
  {
   "cell_type": "markdown",
   "id": "7dc0a147",
   "metadata": {},
   "source": [
    "### Regex project\n",
    "\n",
    "Use python to read the file regex_test.txt and print the last name on each line using regular expressions and groups (return None for names with no first and last name, or names that aren't properly capitalized)\n",
    "##### Hint: use with open() and readlines()"
   ]
  },
  {
   "cell_type": "code",
   "execution_count": 36,
   "id": "3230c5b9",
   "metadata": {},
   "outputs": [
    {
     "name": "stdout",
     "output_type": "stream",
     "text": [
      "Abraham Lincoln\n",
      "\n",
      "Andrew P Garfield\n",
      "\n",
      "Connor Milliken\n",
      "\n",
      "Jordan Alexander Williams\n",
      "\n",
      "None\n",
      "None\n"
     ]
    }
   ],
   "source": [
    "import re\n",
    "with open('regex_test.txt') as file:\n",
    "    #data = file.readlines()\n",
    "    for line in file:\n",
    "        match = re.match(r\"^[A-Z]+[a-z]+\\s?[A-Z]+[a-z]*\\s?[A-Z]?[a-z]+$\", line)\n",
    "        if match:\n",
    "            print(line)\n",
    "        else:\n",
    "            print(None)\n"
   ]
  },
  {
   "cell_type": "code",
   "execution_count": null,
   "id": "166f4c43",
   "metadata": {},
   "outputs": [],
   "source": []
  }
 ],
 "metadata": {
  "kernelspec": {
   "display_name": "Python 3 (ipykernel)",
   "language": "python",
   "name": "python3"
  },
  "language_info": {
   "codemirror_mode": {
    "name": "ipython",
    "version": 3
   },
   "file_extension": ".py",
   "mimetype": "text/x-python",
   "name": "python",
   "nbconvert_exporter": "python",
   "pygments_lexer": "ipython3",
   "version": "3.9.7"
  }
 },
 "nbformat": 4,
 "nbformat_minor": 5
}
